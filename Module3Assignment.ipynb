{
 "cells": [
  {
   "cell_type": "code",
   "execution_count": 15,
   "id": "2c9486fe",
   "metadata": {},
   "outputs": [],
   "source": [
    "import pandas as pd\n",
    "from tabulate import tabulate\n",
    "import numpy as np\n",
    "import matplotlib.pyplot as plt\n",
    "from sklearn.metrics import DistanceMetric, pairwise_distances"
   ]
  },
  {
   "cell_type": "code",
   "execution_count": 16,
   "id": "e3b80b94",
   "metadata": {},
   "outputs": [
    {
     "name": "stdout",
     "output_type": "stream",
     "text": [
      "    Name                       Platform    Genre         Publisher      NA_Sales    Global_Sales    Critic_Score    User_Score  Developer    Rating\n",
      "--  -------------------------  ----------  ------------  -----------  ----------  --------------  --------------  ------------  -----------  --------\n",
      " 0  Wii Sports                 Wii         Sports        Nintendo          41.36           82.53              76           8    Nintendo     E\n",
      " 1  Super Mario Bros.          NES         Platform      Nintendo          29.08           40.24             nan         nan    nan          nan\n",
      " 2  Mario Kart Wii             Wii         Racing        Nintendo          15.68           35.52              82           8.3  Nintendo     E\n",
      " 3  Wii Sports Resort          Wii         Sports        Nintendo          15.61           32.77              80           8    Nintendo     E\n",
      " 4  Pokemon Red/Pokemon Blue   GB          Role-Playing  Nintendo          11.27           31.37             nan         nan    nan          nan\n",
      " 5  Tetris                     GB          Puzzle        Nintendo          23.2            30.26             nan         nan    nan          nan\n",
      " 6  New Super Mario Bros.      DS          Platform      Nintendo          11.28           29.8               89           8.5  Nintendo     E\n",
      " 7  Wii Play                   Wii         Misc          Nintendo          13.96           28.92              58           6.6  Nintendo     E\n",
      " 8  New Super Mario Bros. Wii  Wii         Platform      Nintendo          14.44           28.32              87           8.4  Nintendo     E\n",
      " 9  Duck Hunt                  NES         Shooter       Nintendo          26.93           28.31             nan         nan    nan          nan\n"
     ]
    }
   ],
   "source": [
    "data = pd.read_csv(\"/Users/michaeljeon/Desktop/INST414/Module 3 Assignment/Video_Games.csv\")\n",
    "\n",
    "clean_data = data.drop(['Year_of_Release', 'EU_Sales', 'JP_Sales', 'Other_Sales', 'Critic_Count', 'User_Count'], axis=1)\n",
    "\n",
    "sorted_data = clean_data.sort_values(by='Global_Sales', ascending=False)\n",
    "\n",
    "print(tabulate(sorted_data.head(10), headers='keys'))"
   ]
  },
  {
   "cell_type": "code",
   "execution_count": 47,
   "id": "6605822d",
   "metadata": {},
   "outputs": [
    {
     "name": "stdout",
     "output_type": "stream",
     "text": [
      "Name                  2\n",
      "Platform              0\n",
      "Year_of_Release     269\n",
      "Genre                 2\n",
      "Publisher            54\n",
      "NA_Sales              0\n",
      "EU_Sales              0\n",
      "JP_Sales              0\n",
      "Other_Sales           0\n",
      "Global_Sales          0\n",
      "Critic_Score       8582\n",
      "Critic_Count       8582\n",
      "User_Score         9129\n",
      "User_Count         9129\n",
      "Developer          6623\n",
      "Rating             6769\n",
      "dtype: int64\n",
      "Name                object\n",
      "Platform            object\n",
      "Year_of_Release    float64\n",
      "Genre               object\n",
      "Publisher           object\n",
      "NA_Sales           float64\n",
      "EU_Sales           float64\n",
      "JP_Sales           float64\n",
      "Other_Sales        float64\n",
      "Global_Sales       float64\n",
      "Critic_Score       float64\n",
      "Critic_Count       float64\n",
      "User_Score         float64\n",
      "User_Count         float64\n",
      "Developer           object\n",
      "Rating              object\n",
      "dtype: object\n",
      "Duplicates:  0\n"
     ]
    }
   ],
   "source": [
    "print(data.isnull().sum())\n",
    "print(data.dtypes)\n",
    "print(\"Duplicates: \", data.duplicated().sum())\n",
    "\n"
   ]
  },
  {
   "cell_type": "code",
   "execution_count": 37,
   "id": "c877befe",
   "metadata": {},
   "outputs": [
    {
     "name": "stdout",
     "output_type": "stream",
     "text": [
      "                              Name  Genre  Global_Sales  Jaccard_Similarity\n",
      "                        Wii Sports Sports         82.53                 1.0\n",
      "                 Wii Sports Resort Sports         32.77                 1.0\n",
      "                           Wii Fit Sports         22.70                 1.0\n",
      "                      Wii Fit Plus Sports         21.79                 1.0\n",
      "                           FIFA 16 Sports          8.57                 1.0\n",
      "Mario & Sonic at the Olympic Games Sports          7.99                 1.0\n",
      "                           FIFA 17 Sports          7.59                 1.0\n",
      "                     Zumba Fitness Sports          6.71                 1.0\n",
      "                           FIFA 12 Sports          6.65                 1.0\n",
      "                           FIFA 14 Sports          6.47                 1.0\n",
      "                     Kinect Sports Sports          6.19                 1.0\n"
     ]
    }
   ],
   "source": [
    "data_clean = data.dropna(subset=['Genre', 'Global_Sales']).copy()\n",
    "\n",
    "wii_row = data_clean[data_clean['Name'] == 'Wii Sports']\n",
    "if wii_row.empty:\n",
    "    print(\"Wii Sports not found in dataset.\")\n",
    "else:\n",
    "    wii_genre = set(wii_row['Genre'].values[0].lower().split(', '))\n",
    "\n",
    "    sorted_by_sales = data_clean.sort_values(by='Global_Sales', ascending=False).copy()\n",
    "\n",
    "    def jaccard_similarity(genre_str):\n",
    "        other_genre = set(genre_str.lower().split(', '))\n",
    "        intersection = wii_genre.intersection(other_genre)\n",
    "        union = wii_genre.union(other_genre)\n",
    "        return len(intersection) / len(union) if union else 0\n",
    "\n",
    "    sorted_by_sales['Jaccard_Similarity'] = sorted_by_sales['Genre'].apply(jaccard_similarity)\n",
    "\n",
    "    exact_matches = sorted_by_sales[sorted_by_sales['Jaccard_Similarity'] == 1]\n",
    "\n",
    "    top_10_exact = exact_matches.head(11)\n",
    "\n",
    "    print(top_10_exact[['Name', 'Genre', 'Global_Sales', 'Jaccard_Similarity']].to_string(index=False))\n"
   ]
  },
  {
   "cell_type": "code",
   "execution_count": 40,
   "id": "40ff4f30",
   "metadata": {},
   "outputs": [
    {
     "name": "stdout",
     "output_type": "stream",
     "text": [
      "                                        Name Rating  Global_Sales  Jaccard_Similarity\n",
      "                                  Wii Sports      E         82.53                   1\n",
      "                              Mario Kart Wii      E         35.52                   1\n",
      "                           Wii Sports Resort      E         32.77                   1\n",
      "                       New Super Mario Bros.      E         29.80                   1\n",
      "                                    Wii Play      E         28.92                   1\n",
      "                   New Super Mario Bros. Wii      E         28.32                   1\n",
      "                               Mario Kart DS      E         23.21                   1\n",
      "                                     Wii Fit      E         22.70                   1\n",
      "                          Kinect Adventures!      E         21.81                   1\n",
      "                                Wii Fit Plus      E         21.79                   1\n",
      "Brain Age: Train Your Brain in Minutes a Day      E         20.15                   1\n"
     ]
    }
   ],
   "source": [
    "data_clean = data.dropna(subset=['Rating', 'Global_Sales']).copy()\n",
    "\n",
    "wii_row = data_clean[data_clean['Name'] == 'Wii Sports']\n",
    "if wii_row.empty:\n",
    "    print(\"Wii Sports not found in dataset.\")\n",
    "else:\n",
    "    wii_rating = wii_row['Rating'].values[0].lower()\n",
    "\n",
    "    sorted_by_sales = data_clean.sort_values(by='Global_Sales', ascending=False).copy()\n",
    "\n",
    "    def jaccard_similarity(rating_str):\n",
    "        return 1 if rating_str.lower() == wii_rating else 0\n",
    "\n",
    "    sorted_by_sales['Jaccard_Similarity'] = sorted_by_sales['Rating'].apply(jaccard_similarity)\n",
    "\n",
    "    exact_matches = sorted_by_sales[sorted_by_sales['Jaccard_Similarity'] == 1]\n",
    "\n",
    "    top_10_exact = exact_matches.head(11)\n",
    "\n",
    "    print(top_10_exact[['Name', 'Rating', 'Global_Sales', 'Jaccard_Similarity']].to_string(index=False))\n"
   ]
  },
  {
   "cell_type": "code",
   "execution_count": null,
   "id": "af2fe1c0",
   "metadata": {},
   "outputs": [
    {
     "name": "stdout",
     "output_type": "stream",
     "text": [
      "                                  Name  Global_Sales  User_Score  Euclidean_Distance\n",
      "                     Wii Sports Resort         32.77         8.0                 0.0\n",
      "                            Just Dance          7.20         8.0                 0.0\n",
      "                    Forza Motorsport 3          5.49         8.0                 0.0\n",
      "The Legend of Zelda: Phantom Hourglass          5.08         8.0                 0.0\n",
      "                        FIFA Soccer 11          5.07         8.0                 0.0\n",
      "   Grand Theft Auto: Vice City Stories          5.03         8.0                 0.0\n",
      "                         Madden NFL 06          4.91         8.0                 0.0\n",
      "    The Legend of Zelda: Skyward Sword          3.95         8.0                 0.0\n",
      "                             Fallout 3          3.94         8.0                 0.0\n",
      "                   The Sims: Unleashed          3.76         8.0                 0.0\n",
      "   Cooking Mama 2: Dinner With Friends          3.58         8.0                 0.0\n"
     ]
    }
   ],
   "source": [
    "data['User_Score'] = pd.to_numeric(data['User_Score'], errors='coerce')\n",
    "\n",
    "data_clean = data.dropna(subset=['User_Score', 'Global_Sales']).copy()\n",
    "\n",
    "wii_row = data_clean[data_clean['Name'] == 'Wii Sports']\n",
    "if wii_row.empty:\n",
    "    print(\"Wii Sports not found in dataset.\")\n",
    "else:\n",
    "    wii_score = wii_row['User_Score'].values[0]\n",
    "\n",
    "    data_clean = data_clean[data_clean['Name'] != 'Wii Sports'].copy()\n",
    "    data_clean['Euclidean_Distance'] = data_clean['User_Score'].apply(lambda x: np.sqrt((x - wii_score) ** 2))\n",
    "\n",
    "    exact_matches = data_clean[data_clean['Euclidean_Distance'] == 0].copy()\n",
    "\n",
    "    top_10_exact_matches = exact_matches.sort_values(by='Global_Sales', ascending=False).head(11)\n",
    "\n",
    "    print(top_10_exact_matches[['Name', 'Global_Sales', 'User_Score', 'Euclidean_Distance']].to_string(index=False))\n"
   ]
  }
 ],
 "metadata": {
  "kernelspec": {
   "display_name": "Python 3",
   "language": "python",
   "name": "python3"
  },
  "language_info": {
   "codemirror_mode": {
    "name": "ipython",
    "version": 3
   },
   "file_extension": ".py",
   "mimetype": "text/x-python",
   "name": "python",
   "nbconvert_exporter": "python",
   "pygments_lexer": "ipython3",
   "version": "3.12.1"
  }
 },
 "nbformat": 4,
 "nbformat_minor": 5
}
